{
 "cells": [
  {
   "cell_type": "markdown",
   "id": "7e4d0da4",
   "metadata": {
    "papermill": {
     "duration": 0.010388,
     "end_time": "2023-09-10T00:03:24.795164",
     "exception": false,
     "start_time": "2023-09-10T00:03:24.784776",
     "status": "completed"
    },
    "tags": []
   },
   "source": [
    "# ICR w/ XGBoost\n",
    "\n",
    "Competition: Identifying Age-Related Conditions ([Link](https://www.kaggle.com/competitions/icr-identify-age-related-conditions))\n",
    "\n",
    "Linked from Kaggle Notebook. Created by Hoang Vu."
   ]
  },
  {
   "cell_type": "code",
   "execution_count": 1,
   "id": "f6c04936",
   "metadata": {
    "execution": {
     "iopub.execute_input": "2023-09-10T00:03:24.814674Z",
     "iopub.status.busy": "2023-09-10T00:03:24.814256Z",
     "iopub.status.idle": "2023-09-10T00:03:37.382141Z",
     "shell.execute_reply": "2023-09-10T00:03:37.381103Z"
    },
    "papermill": {
     "duration": 12.579907,
     "end_time": "2023-09-10T00:03:37.384224",
     "exception": false,
     "start_time": "2023-09-10T00:03:24.804317",
     "status": "completed"
    },
    "tags": []
   },
   "outputs": [
    {
     "name": "stderr",
     "output_type": "stream",
     "text": [
      "/opt/conda/lib/python3.10/site-packages/scipy/__init__.py:146: UserWarning: A NumPy version >=1.16.5 and <1.23.0 is required for this version of SciPy (detected version 1.23.5\n",
      "  warnings.warn(f\"A NumPy version >={np_minversion} and <{np_maxversion}\"\n",
      "/opt/conda/lib/python3.10/site-packages/tensorflow_io/python/ops/__init__.py:98: UserWarning: unable to load libtensorflow_io_plugins.so: unable to open file: libtensorflow_io_plugins.so, from paths: ['/opt/conda/lib/python3.10/site-packages/tensorflow_io/python/ops/libtensorflow_io_plugins.so']\n",
      "caused by: ['/opt/conda/lib/python3.10/site-packages/tensorflow_io/python/ops/libtensorflow_io_plugins.so: undefined symbol: _ZN3tsl6StatusC1EN10tensorflow5error4CodeESt17basic_string_viewIcSt11char_traitsIcEENS_14SourceLocationE']\n",
      "  warnings.warn(f\"unable to load libtensorflow_io_plugins.so: {e}\")\n",
      "/opt/conda/lib/python3.10/site-packages/tensorflow_io/python/ops/__init__.py:104: UserWarning: file system plugins are not loaded: unable to open file: libtensorflow_io.so, from paths: ['/opt/conda/lib/python3.10/site-packages/tensorflow_io/python/ops/libtensorflow_io.so']\n",
      "caused by: ['/opt/conda/lib/python3.10/site-packages/tensorflow_io/python/ops/libtensorflow_io.so: undefined symbol: _ZTVN10tensorflow13GcsFileSystemE']\n",
      "  warnings.warn(f\"file system plugins are not loaded: {e}\")\n"
     ]
    },
    {
     "name": "stdout",
     "output_type": "stream",
     "text": [
      "/kaggle/input/icr-identify-age-related-conditions/sample_submission.csv\n",
      "/kaggle/input/icr-identify-age-related-conditions/greeks.csv\n",
      "/kaggle/input/icr-identify-age-related-conditions/train.csv\n",
      "/kaggle/input/icr-identify-age-related-conditions/test.csv\n"
     ]
    }
   ],
   "source": [
    "# This Python 3 environment comes with many helpful analytics libraries installed\n",
    "# It is defined by the kaggle/python Docker image: https://github.com/kaggle/docker-python\n",
    "# For example, here's several helpful packages to load\n",
    "\n",
    "import numpy as np\n",
    "import pandas as pd\n",
    "import tensorflow as tf\n",
    "import matplotlib.pyplot as plt\n",
    "import seaborn as sns\n",
    "\n",
    "from keras import Sequential\n",
    "from keras.layers import Dense, Dropout\n",
    "from keras.utils import to_categorical\n",
    "\n",
    "from sklearn.model_selection import StratifiedKFold\n",
    "from sklearn.preprocessing import OneHotEncoder\n",
    "from sklearn.metrics import log_loss\n",
    "from sklearn.impute import SimpleImputer\n",
    "\n",
    "from xgboost import XGBClassifier\n",
    "\n",
    "from hyperopt import STATUS_OK, Trials, fmin, hp, tpe\n",
    "\n",
    "import optuna\n",
    "from optuna.visualization import plot_param_importances\n",
    "\n",
    "\n",
    "# Input data files are available in the read-only \"../input/\" directory\n",
    "# For example, running this (by clicking run or pressing Shift+Enter) will list all files under the input directory\n",
    "\n",
    "import os\n",
    "for dirname, _, filenames in os.walk('/kaggle/input'):\n",
    "    for filename in filenames:\n",
    "        print(os.path.join(dirname, filename))\n",
    "\n",
    "# You can write up to 20GB to the current directory (/kaggle/working/) that gets preserved as output when you create a version using \"Save & Run All\" \n",
    "# You can also write temporary files to /kaggle/temp/, but they won't be saved outside of the current session"
   ]
  },
  {
   "cell_type": "code",
   "execution_count": 2,
   "id": "37b28871",
   "metadata": {
    "execution": {
     "iopub.execute_input": "2023-09-10T00:03:37.405384Z",
     "iopub.status.busy": "2023-09-10T00:03:37.403379Z",
     "iopub.status.idle": "2023-09-10T00:03:37.456779Z",
     "shell.execute_reply": "2023-09-10T00:03:37.455869Z"
    },
    "papermill": {
     "duration": 0.065748,
     "end_time": "2023-09-10T00:03:37.459067",
     "exception": false,
     "start_time": "2023-09-10T00:03:37.393319",
     "status": "completed"
    },
    "tags": []
   },
   "outputs": [],
   "source": [
    "greeks = pd.read_csv('/kaggle/input/icr-identify-age-related-conditions/greeks.csv')\n",
    "train = pd.read_csv('/kaggle/input/icr-identify-age-related-conditions/train.csv')\n",
    "test = pd.read_csv('/kaggle/input/icr-identify-age-related-conditions/test.csv')\n",
    "sample_submission = pd.read_csv('/kaggle/input/icr-identify-age-related-conditions/sample_submission.csv')"
   ]
  },
  {
   "cell_type": "markdown",
   "id": "fa2f7b20",
   "metadata": {
    "papermill": {
     "duration": 0.008329,
     "end_time": "2023-09-10T00:03:37.476412",
     "exception": false,
     "start_time": "2023-09-10T00:03:37.468083",
     "status": "completed"
    },
    "tags": []
   },
   "source": [
    "### Data Visualization"
   ]
  },
  {
   "cell_type": "code",
   "execution_count": 3,
   "id": "3b75eec1",
   "metadata": {
    "execution": {
     "iopub.execute_input": "2023-09-10T00:03:37.495849Z",
     "iopub.status.busy": "2023-09-10T00:03:37.494906Z",
     "iopub.status.idle": "2023-09-10T00:03:37.529050Z",
     "shell.execute_reply": "2023-09-10T00:03:37.528033Z"
    },
    "papermill": {
     "duration": 0.045989,
     "end_time": "2023-09-10T00:03:37.531291",
     "exception": false,
     "start_time": "2023-09-10T00:03:37.485302",
     "status": "completed"
    },
    "tags": []
   },
   "outputs": [
    {
     "data": {
      "text/html": [
       "<div>\n",
       "<style scoped>\n",
       "    .dataframe tbody tr th:only-of-type {\n",
       "        vertical-align: middle;\n",
       "    }\n",
       "\n",
       "    .dataframe tbody tr th {\n",
       "        vertical-align: top;\n",
       "    }\n",
       "\n",
       "    .dataframe thead th {\n",
       "        text-align: right;\n",
       "    }\n",
       "</style>\n",
       "<table border=\"1\" class=\"dataframe\">\n",
       "  <thead>\n",
       "    <tr style=\"text-align: right;\">\n",
       "      <th></th>\n",
       "      <th>Id</th>\n",
       "      <th>AB</th>\n",
       "      <th>AF</th>\n",
       "      <th>AH</th>\n",
       "      <th>AM</th>\n",
       "      <th>AR</th>\n",
       "      <th>AX</th>\n",
       "      <th>AY</th>\n",
       "      <th>AZ</th>\n",
       "      <th>BC</th>\n",
       "      <th>...</th>\n",
       "      <th>FL</th>\n",
       "      <th>FR</th>\n",
       "      <th>FS</th>\n",
       "      <th>GB</th>\n",
       "      <th>GE</th>\n",
       "      <th>GF</th>\n",
       "      <th>GH</th>\n",
       "      <th>GI</th>\n",
       "      <th>GL</th>\n",
       "      <th>Class</th>\n",
       "    </tr>\n",
       "  </thead>\n",
       "  <tbody>\n",
       "    <tr>\n",
       "      <th>0</th>\n",
       "      <td>000ff2bfdfe9</td>\n",
       "      <td>0.209377</td>\n",
       "      <td>3109.03329</td>\n",
       "      <td>85.200147</td>\n",
       "      <td>22.394407</td>\n",
       "      <td>8.138688</td>\n",
       "      <td>0.699861</td>\n",
       "      <td>0.025578</td>\n",
       "      <td>9.812214</td>\n",
       "      <td>5.555634</td>\n",
       "      <td>...</td>\n",
       "      <td>7.298162</td>\n",
       "      <td>1.73855</td>\n",
       "      <td>0.094822</td>\n",
       "      <td>11.339138</td>\n",
       "      <td>72.611063</td>\n",
       "      <td>2003.810319</td>\n",
       "      <td>22.136229</td>\n",
       "      <td>69.834944</td>\n",
       "      <td>0.120343</td>\n",
       "      <td>1</td>\n",
       "    </tr>\n",
       "    <tr>\n",
       "      <th>1</th>\n",
       "      <td>007255e47698</td>\n",
       "      <td>0.145282</td>\n",
       "      <td>978.76416</td>\n",
       "      <td>85.200147</td>\n",
       "      <td>36.968889</td>\n",
       "      <td>8.138688</td>\n",
       "      <td>3.632190</td>\n",
       "      <td>0.025578</td>\n",
       "      <td>13.517790</td>\n",
       "      <td>1.229900</td>\n",
       "      <td>...</td>\n",
       "      <td>0.173229</td>\n",
       "      <td>0.49706</td>\n",
       "      <td>0.568932</td>\n",
       "      <td>9.292698</td>\n",
       "      <td>72.611063</td>\n",
       "      <td>27981.562750</td>\n",
       "      <td>29.135430</td>\n",
       "      <td>32.131996</td>\n",
       "      <td>21.978000</td>\n",
       "      <td>0</td>\n",
       "    </tr>\n",
       "    <tr>\n",
       "      <th>2</th>\n",
       "      <td>013f2bd269f5</td>\n",
       "      <td>0.470030</td>\n",
       "      <td>2635.10654</td>\n",
       "      <td>85.200147</td>\n",
       "      <td>32.360553</td>\n",
       "      <td>8.138688</td>\n",
       "      <td>6.732840</td>\n",
       "      <td>0.025578</td>\n",
       "      <td>12.824570</td>\n",
       "      <td>1.229900</td>\n",
       "      <td>...</td>\n",
       "      <td>7.709560</td>\n",
       "      <td>0.97556</td>\n",
       "      <td>1.198821</td>\n",
       "      <td>37.077772</td>\n",
       "      <td>88.609437</td>\n",
       "      <td>13676.957810</td>\n",
       "      <td>28.022851</td>\n",
       "      <td>35.192676</td>\n",
       "      <td>0.196941</td>\n",
       "      <td>0</td>\n",
       "    </tr>\n",
       "    <tr>\n",
       "      <th>3</th>\n",
       "      <td>043ac50845d5</td>\n",
       "      <td>0.252107</td>\n",
       "      <td>3819.65177</td>\n",
       "      <td>120.201618</td>\n",
       "      <td>77.112203</td>\n",
       "      <td>8.138688</td>\n",
       "      <td>3.685344</td>\n",
       "      <td>0.025578</td>\n",
       "      <td>11.053708</td>\n",
       "      <td>1.229900</td>\n",
       "      <td>...</td>\n",
       "      <td>6.122162</td>\n",
       "      <td>0.49706</td>\n",
       "      <td>0.284466</td>\n",
       "      <td>18.529584</td>\n",
       "      <td>82.416803</td>\n",
       "      <td>2094.262452</td>\n",
       "      <td>39.948656</td>\n",
       "      <td>90.493248</td>\n",
       "      <td>0.155829</td>\n",
       "      <td>0</td>\n",
       "    </tr>\n",
       "    <tr>\n",
       "      <th>4</th>\n",
       "      <td>044fb8a146ec</td>\n",
       "      <td>0.380297</td>\n",
       "      <td>3733.04844</td>\n",
       "      <td>85.200147</td>\n",
       "      <td>14.103738</td>\n",
       "      <td>8.138688</td>\n",
       "      <td>3.942255</td>\n",
       "      <td>0.054810</td>\n",
       "      <td>3.396778</td>\n",
       "      <td>102.151980</td>\n",
       "      <td>...</td>\n",
       "      <td>8.153058</td>\n",
       "      <td>48.50134</td>\n",
       "      <td>0.121914</td>\n",
       "      <td>16.408728</td>\n",
       "      <td>146.109943</td>\n",
       "      <td>8524.370502</td>\n",
       "      <td>45.381316</td>\n",
       "      <td>36.262628</td>\n",
       "      <td>0.096614</td>\n",
       "      <td>1</td>\n",
       "    </tr>\n",
       "  </tbody>\n",
       "</table>\n",
       "<p>5 rows × 58 columns</p>\n",
       "</div>"
      ],
      "text/plain": [
       "             Id        AB          AF          AH         AM        AR  \\\n",
       "0  000ff2bfdfe9  0.209377  3109.03329   85.200147  22.394407  8.138688   \n",
       "1  007255e47698  0.145282   978.76416   85.200147  36.968889  8.138688   \n",
       "2  013f2bd269f5  0.470030  2635.10654   85.200147  32.360553  8.138688   \n",
       "3  043ac50845d5  0.252107  3819.65177  120.201618  77.112203  8.138688   \n",
       "4  044fb8a146ec  0.380297  3733.04844   85.200147  14.103738  8.138688   \n",
       "\n",
       "         AX        AY         AZ          BC  ...        FL        FR  \\\n",
       "0  0.699861  0.025578   9.812214    5.555634  ...  7.298162   1.73855   \n",
       "1  3.632190  0.025578  13.517790    1.229900  ...  0.173229   0.49706   \n",
       "2  6.732840  0.025578  12.824570    1.229900  ...  7.709560   0.97556   \n",
       "3  3.685344  0.025578  11.053708    1.229900  ...  6.122162   0.49706   \n",
       "4  3.942255  0.054810   3.396778  102.151980  ...  8.153058  48.50134   \n",
       "\n",
       "         FS         GB          GE            GF         GH         GI  \\\n",
       "0  0.094822  11.339138   72.611063   2003.810319  22.136229  69.834944   \n",
       "1  0.568932   9.292698   72.611063  27981.562750  29.135430  32.131996   \n",
       "2  1.198821  37.077772   88.609437  13676.957810  28.022851  35.192676   \n",
       "3  0.284466  18.529584   82.416803   2094.262452  39.948656  90.493248   \n",
       "4  0.121914  16.408728  146.109943   8524.370502  45.381316  36.262628   \n",
       "\n",
       "          GL  Class  \n",
       "0   0.120343      1  \n",
       "1  21.978000      0  \n",
       "2   0.196941      0  \n",
       "3   0.155829      0  \n",
       "4   0.096614      1  \n",
       "\n",
       "[5 rows x 58 columns]"
      ]
     },
     "execution_count": 3,
     "metadata": {},
     "output_type": "execute_result"
    }
   ],
   "source": [
    "train.head(5)"
   ]
  },
  {
   "cell_type": "code",
   "execution_count": 4,
   "id": "1f366235",
   "metadata": {
    "execution": {
     "iopub.execute_input": "2023-09-10T00:03:37.552322Z",
     "iopub.status.busy": "2023-09-10T00:03:37.551477Z",
     "iopub.status.idle": "2023-09-10T00:03:38.484426Z",
     "shell.execute_reply": "2023-09-10T00:03:38.483477Z"
    },
    "papermill": {
     "duration": 0.945167,
     "end_time": "2023-09-10T00:03:38.486783",
     "exception": false,
     "start_time": "2023-09-10T00:03:37.541616",
     "status": "completed"
    },
    "tags": []
   },
   "outputs": [
    {
     "name": "stderr",
     "output_type": "stream",
     "text": [
      "/tmp/ipykernel_24/1384073362.py:2: FutureWarning: The default value of numeric_only in DataFrame.corr is deprecated. In a future version, it will default to False. Select only valid columns or specify the value of numeric_only to silence this warning.\n",
      "  sns.heatmap(train.corr())\n"
     ]
    },
    {
     "data": {
      "text/plain": [
       "<Axes: >"
      ]
     },
     "execution_count": 4,
     "metadata": {},
     "output_type": "execute_result"
    },
    {
     "data": {
      "image/png": "[encoded data removed]",
      "text/plain": [
       "<Figure size 1500x500 with 2 Axes>"
      ]
     },
     "metadata": {},
     "output_type": "display_data"
    }
   ],
   "source": [
    "fig, ax = plt.subplots(figsize=(15,5))\n",
    "sns.heatmap(train.corr())"
   ]
  },
  {
   "cell_type": "code",
   "execution_count": 5,
   "id": "d1469cd1",
   "metadata": {
    "execution": {
     "iopub.execute_input": "2023-09-10T00:03:38.509421Z",
     "iopub.status.busy": "2023-09-10T00:03:38.509121Z",
     "iopub.status.idle": "2023-09-10T00:03:38.514691Z",
     "shell.execute_reply": "2023-09-10T00:03:38.513803Z"
    },
    "papermill": {
     "duration": 0.019691,
     "end_time": "2023-09-10T00:03:38.517064",
     "exception": false,
     "start_time": "2023-09-10T00:03:38.497373",
     "status": "completed"
    },
    "tags": []
   },
   "outputs": [
    {
     "name": "stdout",
     "output_type": "stream",
     "text": [
      "Index(['Id', 'AB', 'AF', 'AH', 'AM', 'AR', 'AX', 'AY', 'AZ', 'BC', 'BD ', 'BN',\n",
      "       'BP', 'BQ', 'BR', 'BZ', 'CB', 'CC', 'CD ', 'CF', 'CH', 'CL', 'CR', 'CS',\n",
      "       'CU', 'CW ', 'DA', 'DE', 'DF', 'DH', 'DI', 'DL', 'DN', 'DU', 'DV', 'DY',\n",
      "       'EB', 'EE', 'EG', 'EH', 'EJ', 'EL', 'EP', 'EU', 'FC', 'FD ', 'FE', 'FI',\n",
      "       'FL', 'FR', 'FS', 'GB', 'GE', 'GF', 'GH', 'GI', 'GL', 'Class'],\n",
      "      dtype='object')\n"
     ]
    }
   ],
   "source": [
    "print(train.columns)"
   ]
  },
  {
   "cell_type": "code",
   "execution_count": 6,
   "id": "cf827dd0",
   "metadata": {
    "execution": {
     "iopub.execute_input": "2023-09-10T00:03:38.537995Z",
     "iopub.status.busy": "2023-09-10T00:03:38.537726Z",
     "iopub.status.idle": "2023-09-10T00:03:38.854174Z",
     "shell.execute_reply": "2023-09-10T00:03:38.853212Z"
    },
    "papermill": {
     "duration": 0.329464,
     "end_time": "2023-09-10T00:03:38.856357",
     "exception": false,
     "start_time": "2023-09-10T00:03:38.526893",
     "status": "completed"
    },
    "tags": []
   },
   "outputs": [
    {
     "data": {
      "text/plain": [
       "<matplotlib.collections.PathCollection at 0x7bb16d42db70>"
      ]
     },
     "execution_count": 6,
     "metadata": {},
     "output_type": "execute_result"
    },
    {
     "data": {
      "image/png": "[encoded data removed]",
      "text/plain": [
       "<Figure size 1500x500 with 1 Axes>"
      ]
     },
     "metadata": {},
     "output_type": "display_data"
    }
   ],
   "source": [
    "# closely correlated: CL & DV, EH & FD\n",
    "one = train.loc[:,['CL', 'DV']]\n",
    "two = train.loc[:, ['EH', 'FD ']]\n",
    "\n",
    "fig, ax = plt.subplots(figsize=(15,5))\n",
    "ax.scatter(two.EH, two['FD '])"
   ]
  },
  {
   "cell_type": "code",
   "execution_count": 7,
   "id": "1dc14468",
   "metadata": {
    "execution": {
     "iopub.execute_input": "2023-09-10T00:03:38.881189Z",
     "iopub.status.busy": "2023-09-10T00:03:38.879662Z",
     "iopub.status.idle": "2023-09-10T00:03:38.895183Z",
     "shell.execute_reply": "2023-09-10T00:03:38.894078Z"
    },
    "papermill": {
     "duration": 0.029787,
     "end_time": "2023-09-10T00:03:38.897566",
     "exception": false,
     "start_time": "2023-09-10T00:03:38.867779",
     "status": "completed"
    },
    "tags": []
   },
   "outputs": [
    {
     "data": {
      "text/plain": [
       "Id        0\n",
       "AB        0\n",
       "AF        0\n",
       "AH        0\n",
       "AM        0\n",
       "AR        0\n",
       "AX        0\n",
       "AY        0\n",
       "AZ        0\n",
       "BC        0\n",
       "BD        0\n",
       "BN        0\n",
       "BP        0\n",
       "BQ       60\n",
       "BR        0\n",
       "BZ        0\n",
       "CB        2\n",
       "CC        3\n",
       "CD        0\n",
       "CF        0\n",
       "CH        0\n",
       "CL        0\n",
       "CR        0\n",
       "CS        0\n",
       "CU        0\n",
       "CW        0\n",
       "DA        0\n",
       "DE        0\n",
       "DF        0\n",
       "DH        0\n",
       "DI        0\n",
       "DL        0\n",
       "DN        0\n",
       "DU        1\n",
       "DV        0\n",
       "DY        0\n",
       "EB        0\n",
       "EE        0\n",
       "EG        0\n",
       "EH        0\n",
       "EJ        0\n",
       "EL       60\n",
       "EP        0\n",
       "EU        0\n",
       "FC        1\n",
       "FD        0\n",
       "FE        0\n",
       "FI        0\n",
       "FL        1\n",
       "FR        0\n",
       "FS        2\n",
       "GB        0\n",
       "GE        0\n",
       "GF        0\n",
       "GH        0\n",
       "GI        0\n",
       "GL        1\n",
       "Class     0\n",
       "dtype: int64"
      ]
     },
     "execution_count": 7,
     "metadata": {},
     "output_type": "execute_result"
    }
   ],
   "source": [
    "train.isnull().sum()"
   ]
  },
  {
   "cell_type": "code",
   "execution_count": 8,
   "id": "70f136b2",
   "metadata": {
    "execution": {
     "iopub.execute_input": "2023-09-10T00:03:38.921968Z",
     "iopub.status.busy": "2023-09-10T00:03:38.920568Z",
     "iopub.status.idle": "2023-09-10T00:03:39.068146Z",
     "shell.execute_reply": "2023-09-10T00:03:39.066929Z"
    },
    "papermill": {
     "duration": 0.162406,
     "end_time": "2023-09-10T00:03:39.071755",
     "exception": false,
     "start_time": "2023-09-10T00:03:38.909349",
     "status": "completed"
    },
    "tags": []
   },
   "outputs": [
    {
     "data": {
      "text/plain": [
       "<Axes: ylabel='Class'>"
      ]
     },
     "execution_count": 8,
     "metadata": {},
     "output_type": "execute_result"
    },
    {
     "data": {
      "image/png": "[encoded data removed]",
      "text/plain": [
       "<Figure size 640x480 with 1 Axes>"
      ]
     },
     "metadata": {},
     "output_type": "display_data"
    }
   ],
   "source": [
    "plot_train = train.Class.value_counts()\n",
    "plot_train.plot(kind = 'pie')"
   ]
  },
  {
   "cell_type": "markdown",
   "id": "210b7e42",
   "metadata": {
    "papermill": {
     "duration": 0.026268,
     "end_time": "2023-09-10T00:03:39.124347",
     "exception": false,
     "start_time": "2023-09-10T00:03:39.098079",
     "status": "completed"
    },
    "tags": []
   },
   "source": [
    "### Data Pre-processing"
   ]
  },
  {
   "cell_type": "code",
   "execution_count": 9,
   "id": "b672c1b3",
   "metadata": {
    "execution": {
     "iopub.execute_input": "2023-09-10T00:03:39.165406Z",
     "iopub.status.busy": "2023-09-10T00:03:39.165113Z",
     "iopub.status.idle": "2023-09-10T00:03:39.191940Z",
     "shell.execute_reply": "2023-09-10T00:03:39.191153Z"
    },
    "papermill": {
     "duration": 0.044372,
     "end_time": "2023-09-10T00:03:39.194213",
     "exception": false,
     "start_time": "2023-09-10T00:03:39.149841",
     "status": "completed"
    },
    "tags": []
   },
   "outputs": [
    {
     "name": "stdout",
     "output_type": "stream",
     "text": [
      "(617, 57)\n",
      "(5, 57)\n"
     ]
    }
   ],
   "source": [
    "X_train = train.drop(columns=['Id', 'Class'])\n",
    "y_train = train.loc[:, ['Class']]\n",
    "\n",
    "# Manually remove columns\n",
    "\n",
    "num_col = X_train.select_dtypes(exclude=['object']).columns.tolist()\n",
    "cat_col = ['EJ']\n",
    "\n",
    "# Use OneHotEncoder for categorical columns\n",
    "\n",
    "ohc = OneHotEncoder(handle_unknown='ignore', sparse_output=False)\n",
    "enc_data = pd.DataFrame(ohc.fit_transform(X_train[cat_col]), columns=ohc.get_feature_names_out())\n",
    "\n",
    "# Create new DataFrame using old DataFrame and encoded data (categorical columns are put at last)\n",
    "X_train = X_train.drop(columns=cat_col).join(enc_data)\n",
    "\n",
    "# Do the same with test data\n",
    "\n",
    "Ids = test['Id']\n",
    "X_test = test.drop(columns=['Id'])\n",
    "\n",
    "enc_data = pd.DataFrame(ohc.transform(X_test[cat_col]), columns=ohc.get_feature_names_out())\n",
    "X_test = X_test.drop(columns=cat_col).join(enc_data)\n",
    "\n",
    "print(X_train.shape)\n",
    "print(X_test.shape)"
   ]
  },
  {
   "cell_type": "code",
   "execution_count": 10,
   "id": "85f175fc",
   "metadata": {
    "execution": {
     "iopub.execute_input": "2023-09-10T00:03:39.219967Z",
     "iopub.status.busy": "2023-09-10T00:03:39.219694Z",
     "iopub.status.idle": "2023-09-10T00:03:39.234946Z",
     "shell.execute_reply": "2023-09-10T00:03:39.234056Z"
    },
    "papermill": {
     "duration": 0.030844,
     "end_time": "2023-09-10T00:03:39.237296",
     "exception": false,
     "start_time": "2023-09-10T00:03:39.206452",
     "status": "completed"
    },
    "tags": []
   },
   "outputs": [],
   "source": [
    "# SimpleImputer median\n",
    "\n",
    "num_col = X_train.select_dtypes(exclude=['object']).columns.tolist()\n",
    "\n",
    "med_imp = SimpleImputer(missing_values=np.nan, strategy='median')\n",
    "X_train = pd.DataFrame(med_imp.fit_transform(X_train[num_col]), columns=num_col)"
   ]
  },
  {
   "cell_type": "code",
   "execution_count": 11,
   "id": "2f1652fc",
   "metadata": {
    "execution": {
     "iopub.execute_input": "2023-09-10T00:03:39.262769Z",
     "iopub.status.busy": "2023-09-10T00:03:39.262418Z",
     "iopub.status.idle": "2023-09-10T00:03:39.270121Z",
     "shell.execute_reply": "2023-09-10T00:03:39.267995Z"
    },
    "papermill": {
     "duration": 0.022066,
     "end_time": "2023-09-10T00:03:39.272118",
     "exception": false,
     "start_time": "2023-09-10T00:03:39.250052",
     "status": "completed"
    },
    "tags": []
   },
   "outputs": [
    {
     "data": {
      "text/plain": [
       "(617, 57)"
      ]
     },
     "execution_count": 11,
     "metadata": {},
     "output_type": "execute_result"
    }
   ],
   "source": [
    "X_train.shape"
   ]
  },
  {
   "cell_type": "markdown",
   "id": "51253154",
   "metadata": {
    "papermill": {
     "duration": 0.011745,
     "end_time": "2023-09-10T00:03:39.295317",
     "exception": false,
     "start_time": "2023-09-10T00:03:39.283572",
     "status": "completed"
    },
    "tags": []
   },
   "source": [
    "### XGBoost: Hyperparameter tuning & defining model"
   ]
  },
  {
   "cell_type": "code",
   "execution_count": 12,
   "id": "38d05dcf",
   "metadata": {
    "execution": {
     "iopub.execute_input": "2023-09-10T00:03:39.320838Z",
     "iopub.status.busy": "2023-09-10T00:03:39.320061Z",
     "iopub.status.idle": "2023-09-10T00:03:39.324668Z",
     "shell.execute_reply": "2023-09-10T00:03:39.323694Z"
    },
    "papermill": {
     "duration": 0.019489,
     "end_time": "2023-09-10T00:03:39.326757",
     "exception": false,
     "start_time": "2023-09-10T00:03:39.307268",
     "status": "completed"
    },
    "tags": []
   },
   "outputs": [],
   "source": [
    "# Defining KFold\n",
    "\n",
    "skf = StratifiedKFold(n_splits=5)"
   ]
  },
  {
   "cell_type": "code",
   "execution_count": 13,
   "id": "6727fb07",
   "metadata": {
    "execution": {
     "iopub.execute_input": "2023-09-10T00:03:39.350756Z",
     "iopub.status.busy": "2023-09-10T00:03:39.350486Z",
     "iopub.status.idle": "2023-09-10T00:03:39.359727Z",
     "shell.execute_reply": "2023-09-10T00:03:39.358712Z"
    },
    "papermill": {
     "duration": 0.023936,
     "end_time": "2023-09-10T00:03:39.362213",
     "exception": false,
     "start_time": "2023-09-10T00:03:39.338277",
     "status": "completed"
    },
    "tags": []
   },
   "outputs": [],
   "source": [
    "# Define objective function\n",
    "\n",
    "def objective(trial):\n",
    "    param = {  \n",
    "        'tree_method': 'gpu_hist',\n",
    "        'objective': 'binary:logistic',\n",
    "        'eval_metric': 'logloss',\n",
    "        'lambda': trial.suggest_float('lambda', 0, 10.0),\n",
    "        'alpha': trial.suggest_float('alpha', 0, 10.0),\n",
    "        'colsample_bytree': trial.suggest_float('colsample_bytree', 0.1, 1.0),\n",
    "        'subsample': trial.suggest_float('subsample', 0.2,1.0),\n",
    "        'learning_rate': trial.suggest_float('learning_rate', 0.0001,0.1),\n",
    "        'n_estimators': trial.suggest_int('n_estimators', 100, 3000),\n",
    "        'max_depth': trial.suggest_int('max_depth', 2, 10),\n",
    "        'min_child_weight': trial.suggest_int('min_child_weight', 1, 10),\n",
    "        'num_parallel_tree': trial.suggest_int('num_parallel_tree', 1, 1),\n",
    "        #'early_stopping_rounds':200,\n",
    "        }\n",
    "    \n",
    "    results=[]\n",
    "    \n",
    "    for train_index, test_index in skf.split(X_train, y_train):\n",
    "        train_X, valid_X = X_train.iloc[train_index], X_train.iloc[test_index]\n",
    "        train_y, valid_y = y_train.iloc[train_index], y_train.iloc[test_index]\n",
    "        \n",
    "        model = XGBClassifier(**param).fit(train_X, train_y,\n",
    "                                           verbose=0)  \n",
    "        \n",
    "        # Predictions give probability of class=1\n",
    "        pred = model.predict(valid_X)\n",
    "        result = log_loss(valid_y, pred)\n",
    "        results.append(result)\n",
    "          \n",
    "    n=sum(results)/len(results) \n",
    "    return n\n",
    "\n",
    "# Log Loss --> The minimal it is the better"
   ]
  },
  {
   "cell_type": "code",
   "execution_count": 14,
   "id": "698f3b2c",
   "metadata": {
    "execution": {
     "iopub.execute_input": "2023-09-10T00:03:39.386329Z",
     "iopub.status.busy": "2023-09-10T00:03:39.386054Z",
     "iopub.status.idle": "2023-09-10T00:03:39.392772Z",
     "shell.execute_reply": "2023-09-10T00:03:39.391848Z"
    },
    "papermill": {
     "duration": 0.021469,
     "end_time": "2023-09-10T00:03:39.395186",
     "exception": false,
     "start_time": "2023-09-10T00:03:39.373717",
     "status": "completed"
    },
    "tags": []
   },
   "outputs": [
    {
     "name": "stderr",
     "output_type": "stream",
     "text": [
      "[I 2023-09-10 00:03:39,387] A new study created in memory with name: no-name-48b71e11-c140-4d7d-a8c8-7756a4879175\n"
     ]
    }
   ],
   "source": [
    "# Optimization function using Optuna (set direction to minimize since the eval metric is log loss)\n",
    "\n",
    "study = optuna.create_study(direction='minimize')\n",
    "\n",
    "# Remove the tag to make things work\n",
    "# study.optimize(objective, n_trials = 50)\n",
    "# study.best_params"
   ]
  },
  {
   "cell_type": "code",
   "execution_count": 15,
   "id": "6d8ced7a",
   "metadata": {
    "execution": {
     "iopub.execute_input": "2023-09-10T00:03:39.420767Z",
     "iopub.status.busy": "2023-09-10T00:03:39.420467Z",
     "iopub.status.idle": "2023-09-10T00:03:39.425052Z",
     "shell.execute_reply": "2023-09-10T00:03:39.424053Z"
    },
    "papermill": {
     "duration": 0.019682,
     "end_time": "2023-09-10T00:03:39.427114",
     "exception": false,
     "start_time": "2023-09-10T00:03:39.407432",
     "status": "completed"
    },
    "tags": []
   },
   "outputs": [],
   "source": [
    "# Remove the tag to make things work\n",
    "#  fig = plot_param_importances(study)\n",
    "#  fig.show()"
   ]
  },
  {
   "cell_type": "markdown",
   "id": "f379584c",
   "metadata": {
    "papermill": {
     "duration": 0.011677,
     "end_time": "2023-09-10T00:03:39.450782",
     "exception": false,
     "start_time": "2023-09-10T00:03:39.439105",
     "status": "completed"
    },
    "tags": []
   },
   "source": [
    "### Make predictions"
   ]
  },
  {
   "cell_type": "code",
   "execution_count": 16,
   "id": "26bd62fc",
   "metadata": {
    "execution": {
     "iopub.execute_input": "2023-09-10T00:03:39.475575Z",
     "iopub.status.busy": "2023-09-10T00:03:39.475294Z",
     "iopub.status.idle": "2023-09-10T00:03:43.918719Z",
     "shell.execute_reply": "2023-09-10T00:03:43.917843Z"
    },
    "papermill": {
     "duration": 4.458849,
     "end_time": "2023-09-10T00:03:43.921355",
     "exception": false,
     "start_time": "2023-09-10T00:03:39.462506",
     "status": "completed"
    },
    "tags": []
   },
   "outputs": [],
   "source": [
    "# params from hyperparameter tuning\n",
    "best_params = {'tree_method': 'gpu_hist',\n",
    "                'objective': 'binary:logistic',\n",
    "                'eval_metric': 'logloss',\n",
    "                'lambda': 3.6544643746800034,\n",
    "                 'alpha': 0.8091866982683935,\n",
    "                 'colsample_bytree': 0.6123420359535653,\n",
    "                 'subsample': 0.9274960357629272,\n",
    "                 'learning_rate': 0.04477043318988813,\n",
    "                 'n_estimators': 2681,\n",
    "                 'max_depth': 9,\n",
    "                 'min_child_weight': 2,\n",
    "                 'num_parallel_tree': 1}\n",
    "\n",
    "model = XGBClassifier(**best_params).fit(X_train, y_train)\n",
    "\n",
    "pred = model.predict_proba(X_test)"
   ]
  },
  {
   "cell_type": "code",
   "execution_count": 17,
   "id": "3a7965dc",
   "metadata": {
    "execution": {
     "iopub.execute_input": "2023-09-10T00:03:43.949621Z",
     "iopub.status.busy": "2023-09-10T00:03:43.949279Z",
     "iopub.status.idle": "2023-09-10T00:03:43.955350Z",
     "shell.execute_reply": "2023-09-10T00:03:43.954289Z"
    },
    "papermill": {
     "duration": 0.023683,
     "end_time": "2023-09-10T00:03:43.959418",
     "exception": false,
     "start_time": "2023-09-10T00:03:43.935735",
     "status": "completed"
    },
    "tags": []
   },
   "outputs": [
    {
     "name": "stdout",
     "output_type": "stream",
     "text": [
      "[[0.76388735 0.23611267]\n",
      " [0.76388735 0.23611267]\n",
      " [0.76388735 0.23611267]\n",
      " [0.76388735 0.23611267]\n",
      " [0.76388735 0.23611267]]\n"
     ]
    }
   ],
   "source": [
    "print(pred)"
   ]
  },
  {
   "cell_type": "markdown",
   "id": "4dfd5355",
   "metadata": {
    "papermill": {
     "duration": 0.011472,
     "end_time": "2023-09-10T00:03:43.982413",
     "exception": false,
     "start_time": "2023-09-10T00:03:43.970941",
     "status": "completed"
    },
    "tags": []
   },
   "source": [
    "### Submit predictions"
   ]
  },
  {
   "cell_type": "code",
   "execution_count": 18,
   "id": "58fa996e",
   "metadata": {
    "execution": {
     "iopub.execute_input": "2023-09-10T00:03:44.006830Z",
     "iopub.status.busy": "2023-09-10T00:03:44.006066Z",
     "iopub.status.idle": "2023-09-10T00:03:44.017713Z",
     "shell.execute_reply": "2023-09-10T00:03:44.016596Z"
    },
    "papermill": {
     "duration": 0.026092,
     "end_time": "2023-09-10T00:03:44.020043",
     "exception": false,
     "start_time": "2023-09-10T00:03:43.993951",
     "status": "completed"
    },
    "tags": []
   },
   "outputs": [
    {
     "data": {
      "text/html": [
       "<div>\n",
       "<style scoped>\n",
       "    .dataframe tbody tr th:only-of-type {\n",
       "        vertical-align: middle;\n",
       "    }\n",
       "\n",
       "    .dataframe tbody tr th {\n",
       "        vertical-align: top;\n",
       "    }\n",
       "\n",
       "    .dataframe thead th {\n",
       "        text-align: right;\n",
       "    }\n",
       "</style>\n",
       "<table border=\"1\" class=\"dataframe\">\n",
       "  <thead>\n",
       "    <tr style=\"text-align: right;\">\n",
       "      <th></th>\n",
       "      <th>Id</th>\n",
       "      <th>class_0</th>\n",
       "      <th>class_1</th>\n",
       "    </tr>\n",
       "  </thead>\n",
       "  <tbody>\n",
       "    <tr>\n",
       "      <th>0</th>\n",
       "      <td>00eed32682bb</td>\n",
       "      <td>0.5</td>\n",
       "      <td>0.5</td>\n",
       "    </tr>\n",
       "    <tr>\n",
       "      <th>1</th>\n",
       "      <td>010ebe33f668</td>\n",
       "      <td>0.5</td>\n",
       "      <td>0.5</td>\n",
       "    </tr>\n",
       "    <tr>\n",
       "      <th>2</th>\n",
       "      <td>02fa521e1838</td>\n",
       "      <td>0.5</td>\n",
       "      <td>0.5</td>\n",
       "    </tr>\n",
       "    <tr>\n",
       "      <th>3</th>\n",
       "      <td>040e15f562a2</td>\n",
       "      <td>0.5</td>\n",
       "      <td>0.5</td>\n",
       "    </tr>\n",
       "    <tr>\n",
       "      <th>4</th>\n",
       "      <td>046e85c7cc7f</td>\n",
       "      <td>0.5</td>\n",
       "      <td>0.5</td>\n",
       "    </tr>\n",
       "  </tbody>\n",
       "</table>\n",
       "</div>"
      ],
      "text/plain": [
       "             Id  class_0  class_1\n",
       "0  00eed32682bb      0.5      0.5\n",
       "1  010ebe33f668      0.5      0.5\n",
       "2  02fa521e1838      0.5      0.5\n",
       "3  040e15f562a2      0.5      0.5\n",
       "4  046e85c7cc7f      0.5      0.5"
      ]
     },
     "execution_count": 18,
     "metadata": {},
     "output_type": "execute_result"
    }
   ],
   "source": [
    "sample_submission.head()"
   ]
  },
  {
   "cell_type": "code",
   "execution_count": 19,
   "id": "d4ed2cef",
   "metadata": {
    "execution": {
     "iopub.execute_input": "2023-09-10T00:03:44.046622Z",
     "iopub.status.busy": "2023-09-10T00:03:44.045739Z",
     "iopub.status.idle": "2023-09-10T00:03:44.050788Z",
     "shell.execute_reply": "2023-09-10T00:03:44.049934Z"
    },
    "papermill": {
     "duration": 0.019901,
     "end_time": "2023-09-10T00:03:44.052738",
     "exception": false,
     "start_time": "2023-09-10T00:03:44.032837",
     "status": "completed"
    },
    "tags": []
   },
   "outputs": [],
   "source": [
    "sample_submission[['class_0', 'class_1']] = pred"
   ]
  },
  {
   "cell_type": "code",
   "execution_count": 20,
   "id": "e72b0f46",
   "metadata": {
    "execution": {
     "iopub.execute_input": "2023-09-10T00:03:44.077090Z",
     "iopub.status.busy": "2023-09-10T00:03:44.076790Z",
     "iopub.status.idle": "2023-09-10T00:03:44.083866Z",
     "shell.execute_reply": "2023-09-10T00:03:44.082878Z"
    },
    "papermill": {
     "duration": 0.022301,
     "end_time": "2023-09-10T00:03:44.086131",
     "exception": false,
     "start_time": "2023-09-10T00:03:44.063830",
     "status": "completed"
    },
    "tags": []
   },
   "outputs": [],
   "source": [
    "sample_submission.to_csv('/kaggle/working/submission.csv', index=False)"
   ]
  }
 ],
 "kernelspec": {
  "display_name": "Python 3",
  "language": "python",
  "name": "python3"
 },
 "language_info": {
  "codemirror_mode": {
   "name": "ipython",
   "version": 3
  },
  "file_extension": ".py",
  "mimetype": "text/x-python",
  "name": "python",
  "nbconvert_exporter": "python",
  "pygments_lexer": "ipython3",
  "version": "3.6.4"
 },
 "metadata": {
  "kernelspec": {
   "display_name": "Python 3",
   "language": "python",
   "name": "python3"
  },
  "language_info": {
   "codemirror_mode": {
    "name": "ipython",
    "version": 3
   },
   "file_extension": ".py",
   "mimetype": "text/x-python",
   "name": "python",
   "nbconvert_exporter": "python",
   "pygments_lexer": "ipython3",
   "version": "3.10.12"
  },
  "papermill": {
   "default_parameters": {},
   "duration": 32.919325,
   "end_time": "2023-09-10T00:03:46.514177",
   "environment_variables": {},
   "exception": null,
   "input_path": "__notebook__.ipynb",
   "output_path": "__notebook__.ipynb",
   "parameters": {},
   "start_time": "2023-09-10T00:03:13.594852",
   "version": "2.4.0"
  }
 },
 "nbformat": 4,
 "nbformat_minor": 5
}
